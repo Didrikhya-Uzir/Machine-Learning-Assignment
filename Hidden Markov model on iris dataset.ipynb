{
 "cells": [
  {
   "cell_type": "code",
   "execution_count": 5,
   "id": "ae9bd597",
   "metadata": {
    "scrolled": true
   },
   "outputs": [],
   "source": [
    "from hmmlearn import hmm\n",
    "from sklearn.datasets import load_iris\n",
    "import pandas as pd\n",
    "import numpy as np"
   ]
  },
  {
   "cell_type": "code",
   "execution_count": 6,
   "id": "702dfca8",
   "metadata": {},
   "outputs": [],
   "source": [
    "def load_data():\n",
    "    iris = load_iris()\n",
    "    data = pd.DataFrame(iris.data, columns=iris.feature_names)\n",
    "    return data\n",
    "\n",
    "def create_hmm_model(data):\n",
    "    model = hmm.GaussianHMM(n_components=3, covariance_type=\"full\")\n",
    "    \n",
    "    model.fit(data.values)\n",
    "    return model\n",
    "\n",
    "def predict_hidden_states(model, data):\n",
    "    hidden_states = model.predict(data.values)\n",
    "    return hidden_states"
   ]
  },
  {
   "cell_type": "code",
   "execution_count": 7,
   "id": "b9259eea",
   "metadata": {},
   "outputs": [
    {
     "name": "stdout",
     "output_type": "stream",
     "text": [
      "Hidden States: [1 1 1 1 1 1 1 1 1 1 1 1 1 0 1 1 1 1 1 1 1 1 0 0 1 1 0 1 1 1 1 1 1 1 1 1 1\n",
      " 1 0 1 1 1 1 0 1 1 1 1 1 1 2 2 2 2 2 2 2 2 2 2 2 2 2 2 2 2 2 2 2 2 2 2 2 2\n",
      " 2 2 2 2 2 2 2 2 2 2 2 2 2 2 2 2 2 2 2 2 2 2 2 2 2 2 2 2 2 2 2 2 2 2 2 2 2\n",
      " 2 2 2 2 2 2 2 2 2 2 2 2 2 2 2 2 2 2 2 2 2 2 2 2 2 2 2 2 2 2 2 2 2 2 2 2 2\n",
      " 2 2]\n"
     ]
    }
   ],
   "source": [
    "if __name__ == \"__main__\":\n",
    "    data = load_data()\n",
    "    hmm_model = create_hmm_model(data)\n",
    "    hidden_states = predict_hidden_states(hmm_model, data)\n",
    "    print(\"Hidden States:\", hidden_states)"
   ]
  },
  {
   "cell_type": "code",
   "execution_count": null,
   "id": "3ec50407",
   "metadata": {},
   "outputs": [],
   "source": []
  }
 ],
 "metadata": {
  "kernelspec": {
   "display_name": "Python 3 (ipykernel)",
   "language": "python",
   "name": "python3"
  },
  "language_info": {
   "codemirror_mode": {
    "name": "ipython",
    "version": 3
   },
   "file_extension": ".py",
   "mimetype": "text/x-python",
   "name": "python",
   "nbconvert_exporter": "python",
   "pygments_lexer": "ipython3",
   "version": "3.11.5"
  }
 },
 "nbformat": 4,
 "nbformat_minor": 5
}
